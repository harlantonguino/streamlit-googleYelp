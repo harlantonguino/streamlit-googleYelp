{
 "cells": [
  {
   "cell_type": "code",
   "execution_count": null,
   "metadata": {},
   "outputs": [],
   "source": [
    "# importar librerias\n",
    "import numpy as np\n",
    "import pandas as pd\n",
    "\n",
    "from sklearn.model_selection import train_test_split\n",
    "from sklearn.pipeline import Pipeline\n",
    "from sklearn.feature_extraction.text import TfidfVectorizer\n",
    "from sklearn.svm import LinearSVC\n",
    "import joblib\n",
    "\n",
    "# get data\n",
    "df = pd.read_parquet('Cluster_CountVectorizer_KMeans.parquet')\n",
    "\n",
    "# Ssleccionar variable predictora X - variable a predecir y\n",
    "X = df['review processed']\n",
    "y = df['cluster']\n",
    "\n",
    "# obtener datos de entrenamiento - datos de prueba (split)\n",
    "X_train, X_test, y_train, y_test = train_test_split(X, y, test_size=0.20, random_state=1, stratify=y)\n",
    "\n",
    "## guardar y cargar modelo preentrenado\n",
    "from sklearn.pipeline import Pipeline\n",
    "clf_model = Pipeline([('tfidf_v', TfidfVectorizer(ngram_range=(1, 2))), ('clf_m', LinearSVC(C=1.5, loss='hinge'))])\n",
    "\n",
    "# entrenar modelo\n",
    "clf_model.fit(X_train, y_train)\n",
    "\n",
    "# guardar modelo preentrenado\n",
    "joblib.dump(clf_model, 'clf_model_v1.2.2.pkl') "
   ]
  }
 ],
 "metadata": {
  "language_info": {
   "name": "python"
  }
 },
 "nbformat": 4,
 "nbformat_minor": 2
}
